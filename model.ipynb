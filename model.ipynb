{
 "cells": [
  {
   "attachments": {},
   "cell_type": "markdown",
   "metadata": {},
   "source": [
    "# Data Preprocessing"
   ]
  },
  {
   "cell_type": "code",
   "execution_count": 16,
   "metadata": {},
   "outputs": [],
   "source": [
    "import pandas as pd\n",
    "import os\n",
    "from tensorflow.keras.preprocessing.image import ImageDataGenerator"
   ]
  },
  {
   "cell_type": "code",
   "execution_count": 17,
   "metadata": {},
   "outputs": [],
   "source": [
    "dataPath = './aideeplearningproject2022/dataset/sortData/'\n",
    "trianPath = './aideeplearningproject2022/train.csv'\n",
    "trainLabel = pd.read_csv(trianPath, sep=',')"
   ]
  },
  {
   "cell_type": "code",
   "execution_count": 18,
   "metadata": {},
   "outputs": [
    {
     "name": "stdout",
     "output_type": "stream",
     "text": [
      "Found 664 images belonging to 16 classes.\n",
      "Found 159 images belonging to 16 classes.\n"
     ]
    }
   ],
   "source": [
    "trainDataGen = ImageDataGenerator(rescale=1./255.,\n",
    "                                  horizontal_flip=True,\n",
    "                                #   height_shift_range=0.2,\n",
    "                                #   width_shift_range=0.2,\n",
    "                                  shear_range=0.2,\n",
    "                                  zoom_range=0.2,\n",
    "                                  # rotation_range=20,\n",
    "                                  validation_split=0.2)\n",
    "validationDataGen = ImageDataGenerator(rescale=1./255., validation_split=0.2)\n",
    "\n",
    "trainGenerator = trainDataGen.flow_from_directory(dataPath,\n",
    "                                                  subset='training',\n",
    "                                                  batch_size=32,\n",
    "                                                  target_size=(96, 96),\n",
    "                                                  class_mode='categorical',\n",
    "                                                  shuffle=True,\n",
    "                                                  seed=10)\n",
    "validationGenerator = validationDataGen.flow_from_directory(dataPath,\n",
    "                                                            subset='validation',\n",
    "                                                            batch_size=32,\n",
    "                                                            target_size=(96, 96),\n",
    "                                                            class_mode='categorical',\n",
    "                                                            shuffle=True,\n",
    "                                                            seed=10)\n"
   ]
  },
  {
   "attachments": {},
   "cell_type": "markdown",
   "metadata": {},
   "source": [
    "# Create Model and Train"
   ]
  },
  {
   "cell_type": "code",
   "execution_count": 19,
   "metadata": {},
   "outputs": [],
   "source": [
    "from tensorflow.keras import layers, models, optimizers\n",
    "from tensorflow.keras import callbacks\n",
    "from tensorflow.keras.applications import VGG16\n",
    "import tensorflow as tf\n",
    "import matplotlib.pyplot as plt\n",
    "import absl.logging"
   ]
  },
  {
   "cell_type": "code",
   "execution_count": 20,
   "metadata": {},
   "outputs": [],
   "source": [
    "import absl.logging\n",
    "absl.logging.set_verbosity(absl.logging.ERROR)"
   ]
  },
  {
   "cell_type": "code",
   "execution_count": 21,
   "metadata": {},
   "outputs": [],
   "source": [
    "def createModel(verbose=False):\n",
    "    input_tensor = layers.Input(shape=(96, 96, 3))\n",
    "    pretrained_model = VGG16(input_tensor=input_tensor, input_shape=(96, 96, 3), include_top=False, weights='imagenet')\n",
    "    pretrained_model.trainable = False\n",
    "\n",
    "    x = pretrained_model(input_tensor, training=False)\n",
    "    x = layers.GlobalAveragePooling2D()(x)\n",
    "    x = layers.Dense(256, activation='relu')(x)\n",
    "    x = layers.Dense(256, activation='relu')(x)\n",
    "    x = layers.Dropout(0.5)(x)\n",
    "    output = layers.Dense(units=16, activation='softmax')(x)\n",
    "    \n",
    "    model = models.Model(inputs=input_tensor, outputs=output)\n",
    "\n",
    "    if verbose:\n",
    "        model.summary()\n",
    "    return model\n",
    "    "
   ]
  },
  {
   "cell_type": "code",
   "execution_count": 22,
   "metadata": {},
   "outputs": [],
   "source": [
    "model = createModel()\n",
    "model.compile(optimizer=optimizers.Adam(),\n",
    "              loss='categorical_crossentropy',\n",
    "              metrics=['categorical_accuracy'])\n",
    "early_stopping = callbacks.EarlyStopping(patience=10)\n",
    "learning_rate_reduction = callbacks.ReduceLROnPlateau(monitor='val_loss',\n",
    "                                                      patience=3,\n",
    "                                                      factor=0.5,\n",
    "                                                      min_lr=0.0001,\n",
    "                                                      verbose=2)\n",
    "cp = callbacks.ModelCheckpoint(filepath='./vgg16_model.ckpt', save_weight_only=True, verbose=2)\n",
    "callback = [early_stopping, learning_rate_reduction, cp]\n"
   ]
  },
  {
   "cell_type": "code",
   "execution_count": 23,
   "metadata": {},
   "outputs": [
    {
     "name": "stdout",
     "output_type": "stream",
     "text": [
      "Epoch 1/100\n",
      "\n",
      "Epoch 1: saving model to .\\vgg16_model.ckpt\n",
      "INFO:tensorflow:Assets written to: .\\vgg16_model.ckpt\\assets\n"
     ]
    },
    {
     "name": "stderr",
     "output_type": "stream",
     "text": [
      "INFO:tensorflow:Assets written to: .\\vgg16_model.ckpt\\assets\n"
     ]
    },
    {
     "name": "stdout",
     "output_type": "stream",
     "text": [
      "21/21 - 18s - loss: 2.5483 - categorical_accuracy: 0.2123 - val_loss: 2.2236 - val_categorical_accuracy: 0.3459 - lr: 0.0010 - 18s/epoch - 869ms/step\n",
      "Epoch 2/100\n",
      "\n",
      "Epoch 2: saving model to .\\vgg16_model.ckpt\n",
      "INFO:tensorflow:Assets written to: .\\vgg16_model.ckpt\\assets\n"
     ]
    },
    {
     "name": "stderr",
     "output_type": "stream",
     "text": [
      "INFO:tensorflow:Assets written to: .\\vgg16_model.ckpt\\assets\n"
     ]
    },
    {
     "name": "stdout",
     "output_type": "stream",
     "text": [
      "21/21 - 18s - loss: 2.0697 - categorical_accuracy: 0.3780 - val_loss: 1.8320 - val_categorical_accuracy: 0.4277 - lr: 0.0010 - 18s/epoch - 866ms/step\n",
      "Epoch 3/100\n",
      "\n",
      "Epoch 3: saving model to .\\vgg16_model.ckpt\n",
      "INFO:tensorflow:Assets written to: .\\vgg16_model.ckpt\\assets\n"
     ]
    },
    {
     "name": "stderr",
     "output_type": "stream",
     "text": [
      "INFO:tensorflow:Assets written to: .\\vgg16_model.ckpt\\assets\n"
     ]
    },
    {
     "name": "stdout",
     "output_type": "stream",
     "text": [
      "21/21 - 17s - loss: 1.7073 - categorical_accuracy: 0.4473 - val_loss: 1.5765 - val_categorical_accuracy: 0.5157 - lr: 0.0010 - 17s/epoch - 822ms/step\n",
      "Epoch 4/100\n",
      "\n",
      "Epoch 4: saving model to .\\vgg16_model.ckpt\n",
      "INFO:tensorflow:Assets written to: .\\vgg16_model.ckpt\\assets\n"
     ]
    },
    {
     "name": "stderr",
     "output_type": "stream",
     "text": [
      "INFO:tensorflow:Assets written to: .\\vgg16_model.ckpt\\assets\n"
     ]
    },
    {
     "name": "stdout",
     "output_type": "stream",
     "text": [
      "21/21 - 19s - loss: 1.4798 - categorical_accuracy: 0.5136 - val_loss: 1.4701 - val_categorical_accuracy: 0.5597 - lr: 0.0010 - 19s/epoch - 913ms/step\n",
      "Epoch 5/100\n",
      "\n",
      "Epoch 5: saving model to .\\vgg16_model.ckpt\n",
      "INFO:tensorflow:Assets written to: .\\vgg16_model.ckpt\\assets\n"
     ]
    },
    {
     "name": "stderr",
     "output_type": "stream",
     "text": [
      "INFO:tensorflow:Assets written to: .\\vgg16_model.ckpt\\assets\n"
     ]
    },
    {
     "name": "stdout",
     "output_type": "stream",
     "text": [
      "21/21 - 18s - loss: 1.3591 - categorical_accuracy: 0.5617 - val_loss: 1.4285 - val_categorical_accuracy: 0.5912 - lr: 0.0010 - 18s/epoch - 873ms/step\n",
      "Epoch 6/100\n",
      "\n",
      "Epoch 6: saving model to .\\vgg16_model.ckpt\n",
      "INFO:tensorflow:Assets written to: .\\vgg16_model.ckpt\\assets\n"
     ]
    },
    {
     "name": "stderr",
     "output_type": "stream",
     "text": [
      "INFO:tensorflow:Assets written to: .\\vgg16_model.ckpt\\assets\n"
     ]
    },
    {
     "name": "stdout",
     "output_type": "stream",
     "text": [
      "21/21 - 19s - loss: 1.2565 - categorical_accuracy: 0.6386 - val_loss: 1.2992 - val_categorical_accuracy: 0.5975 - lr: 0.0010 - 19s/epoch - 924ms/step\n",
      "Epoch 7/100\n",
      "\n",
      "Epoch 7: saving model to .\\vgg16_model.ckpt\n",
      "INFO:tensorflow:Assets written to: .\\vgg16_model.ckpt\\assets\n"
     ]
    },
    {
     "name": "stderr",
     "output_type": "stream",
     "text": [
      "INFO:tensorflow:Assets written to: .\\vgg16_model.ckpt\\assets\n"
     ]
    },
    {
     "name": "stdout",
     "output_type": "stream",
     "text": [
      "21/21 - 19s - loss: 1.1968 - categorical_accuracy: 0.6160 - val_loss: 1.2956 - val_categorical_accuracy: 0.5786 - lr: 0.0010 - 19s/epoch - 891ms/step\n",
      "Epoch 8/100\n",
      "\n",
      "Epoch 8: saving model to .\\vgg16_model.ckpt\n",
      "INFO:tensorflow:Assets written to: .\\vgg16_model.ckpt\\assets\n"
     ]
    },
    {
     "name": "stderr",
     "output_type": "stream",
     "text": [
      "INFO:tensorflow:Assets written to: .\\vgg16_model.ckpt\\assets\n"
     ]
    },
    {
     "name": "stdout",
     "output_type": "stream",
     "text": [
      "21/21 - 19s - loss: 1.0777 - categorical_accuracy: 0.6717 - val_loss: 1.3156 - val_categorical_accuracy: 0.5723 - lr: 0.0010 - 19s/epoch - 889ms/step\n",
      "Epoch 9/100\n",
      "\n",
      "Epoch 9: saving model to .\\vgg16_model.ckpt\n",
      "INFO:tensorflow:Assets written to: .\\vgg16_model.ckpt\\assets\n"
     ]
    },
    {
     "name": "stderr",
     "output_type": "stream",
     "text": [
      "INFO:tensorflow:Assets written to: .\\vgg16_model.ckpt\\assets\n"
     ]
    },
    {
     "name": "stdout",
     "output_type": "stream",
     "text": [
      "21/21 - 19s - loss: 1.0504 - categorical_accuracy: 0.6747 - val_loss: 1.2673 - val_categorical_accuracy: 0.5660 - lr: 0.0010 - 19s/epoch - 889ms/step\n",
      "Epoch 10/100\n",
      "\n",
      "Epoch 10: saving model to .\\vgg16_model.ckpt\n",
      "INFO:tensorflow:Assets written to: .\\vgg16_model.ckpt\\assets\n"
     ]
    },
    {
     "name": "stderr",
     "output_type": "stream",
     "text": [
      "INFO:tensorflow:Assets written to: .\\vgg16_model.ckpt\\assets\n"
     ]
    },
    {
     "name": "stdout",
     "output_type": "stream",
     "text": [
      "21/21 - 19s - loss: 0.9693 - categorical_accuracy: 0.6958 - val_loss: 1.2160 - val_categorical_accuracy: 0.6478 - lr: 0.0010 - 19s/epoch - 913ms/step\n",
      "Epoch 11/100\n",
      "\n",
      "Epoch 11: saving model to .\\vgg16_model.ckpt\n",
      "INFO:tensorflow:Assets written to: .\\vgg16_model.ckpt\\assets\n"
     ]
    },
    {
     "name": "stderr",
     "output_type": "stream",
     "text": [
      "INFO:tensorflow:Assets written to: .\\vgg16_model.ckpt\\assets\n"
     ]
    },
    {
     "name": "stdout",
     "output_type": "stream",
     "text": [
      "21/21 - 19s - loss: 0.9353 - categorical_accuracy: 0.7003 - val_loss: 1.1864 - val_categorical_accuracy: 0.6352 - lr: 0.0010 - 19s/epoch - 918ms/step\n",
      "Epoch 12/100\n",
      "\n",
      "Epoch 12: saving model to .\\vgg16_model.ckpt\n",
      "INFO:tensorflow:Assets written to: .\\vgg16_model.ckpt\\assets\n"
     ]
    },
    {
     "name": "stderr",
     "output_type": "stream",
     "text": [
      "INFO:tensorflow:Assets written to: .\\vgg16_model.ckpt\\assets\n"
     ]
    },
    {
     "name": "stdout",
     "output_type": "stream",
     "text": [
      "21/21 - 18s - loss: 0.8661 - categorical_accuracy: 0.7169 - val_loss: 1.2183 - val_categorical_accuracy: 0.6478 - lr: 0.0010 - 18s/epoch - 870ms/step\n",
      "Epoch 13/100\n",
      "\n",
      "Epoch 13: saving model to .\\vgg16_model.ckpt\n",
      "INFO:tensorflow:Assets written to: .\\vgg16_model.ckpt\\assets\n"
     ]
    },
    {
     "name": "stderr",
     "output_type": "stream",
     "text": [
      "INFO:tensorflow:Assets written to: .\\vgg16_model.ckpt\\assets\n"
     ]
    },
    {
     "name": "stdout",
     "output_type": "stream",
     "text": [
      "21/21 - 19s - loss: 0.8080 - categorical_accuracy: 0.7440 - val_loss: 1.2060 - val_categorical_accuracy: 0.6352 - lr: 0.0010 - 19s/epoch - 892ms/step\n",
      "Epoch 14/100\n",
      "\n",
      "Epoch 14: saving model to .\\vgg16_model.ckpt\n",
      "INFO:tensorflow:Assets written to: .\\vgg16_model.ckpt\\assets\n"
     ]
    },
    {
     "name": "stderr",
     "output_type": "stream",
     "text": [
      "INFO:tensorflow:Assets written to: .\\vgg16_model.ckpt\\assets\n"
     ]
    },
    {
     "name": "stdout",
     "output_type": "stream",
     "text": [
      "21/21 - 19s - loss: 0.7913 - categorical_accuracy: 0.7545 - val_loss: 1.2916 - val_categorical_accuracy: 0.6226 - lr: 0.0010 - 19s/epoch - 882ms/step\n",
      "Epoch 15/100\n",
      "\n",
      "Epoch 15: saving model to .\\vgg16_model.ckpt\n",
      "INFO:tensorflow:Assets written to: .\\vgg16_model.ckpt\\assets\n"
     ]
    },
    {
     "name": "stderr",
     "output_type": "stream",
     "text": [
      "INFO:tensorflow:Assets written to: .\\vgg16_model.ckpt\\assets\n"
     ]
    },
    {
     "name": "stdout",
     "output_type": "stream",
     "text": [
      "21/21 - 19s - loss: 0.7808 - categorical_accuracy: 0.7304 - val_loss: 1.2606 - val_categorical_accuracy: 0.5849 - lr: 0.0010 - 19s/epoch - 890ms/step\n",
      "Epoch 16/100\n",
      "\n",
      "Epoch 16: ReduceLROnPlateau reducing learning rate to 0.00020000000949949026.\n",
      "\n",
      "Epoch 16: saving model to .\\vgg16_model.ckpt\n",
      "INFO:tensorflow:Assets written to: .\\vgg16_model.ckpt\\assets\n"
     ]
    },
    {
     "name": "stderr",
     "output_type": "stream",
     "text": [
      "INFO:tensorflow:Assets written to: .\\vgg16_model.ckpt\\assets\n"
     ]
    },
    {
     "name": "stdout",
     "output_type": "stream",
     "text": [
      "21/21 - 19s - loss: 0.7437 - categorical_accuracy: 0.7666 - val_loss: 1.2445 - val_categorical_accuracy: 0.6226 - lr: 0.0010 - 19s/epoch - 927ms/step\n",
      "Epoch 17/100\n",
      "\n",
      "Epoch 17: saving model to .\\vgg16_model.ckpt\n",
      "INFO:tensorflow:Assets written to: .\\vgg16_model.ckpt\\assets\n"
     ]
    },
    {
     "name": "stderr",
     "output_type": "stream",
     "text": [
      "INFO:tensorflow:Assets written to: .\\vgg16_model.ckpt\\assets\n"
     ]
    },
    {
     "name": "stdout",
     "output_type": "stream",
     "text": [
      "21/21 - 19s - loss: 0.6542 - categorical_accuracy: 0.7967 - val_loss: 1.1284 - val_categorical_accuracy: 0.6541 - lr: 2.0000e-04 - 19s/epoch - 882ms/step\n",
      "Epoch 18/100\n",
      "\n",
      "Epoch 18: saving model to .\\vgg16_model.ckpt\n",
      "INFO:tensorflow:Assets written to: .\\vgg16_model.ckpt\\assets\n"
     ]
    },
    {
     "name": "stderr",
     "output_type": "stream",
     "text": [
      "INFO:tensorflow:Assets written to: .\\vgg16_model.ckpt\\assets\n"
     ]
    },
    {
     "name": "stdout",
     "output_type": "stream",
     "text": [
      "21/21 - 17s - loss: 0.6244 - categorical_accuracy: 0.8133 - val_loss: 1.1279 - val_categorical_accuracy: 0.6604 - lr: 2.0000e-04 - 17s/epoch - 811ms/step\n",
      "Epoch 19/100\n",
      "\n",
      "Epoch 19: saving model to .\\vgg16_model.ckpt\n",
      "INFO:tensorflow:Assets written to: .\\vgg16_model.ckpt\\assets\n"
     ]
    },
    {
     "name": "stderr",
     "output_type": "stream",
     "text": [
      "INFO:tensorflow:Assets written to: .\\vgg16_model.ckpt\\assets\n"
     ]
    },
    {
     "name": "stdout",
     "output_type": "stream",
     "text": [
      "21/21 - 17s - loss: 0.5751 - categorical_accuracy: 0.8404 - val_loss: 1.1259 - val_categorical_accuracy: 0.6541 - lr: 2.0000e-04 - 17s/epoch - 831ms/step\n",
      "Epoch 20/100\n",
      "\n",
      "Epoch 20: saving model to .\\vgg16_model.ckpt\n",
      "INFO:tensorflow:Assets written to: .\\vgg16_model.ckpt\\assets\n"
     ]
    },
    {
     "name": "stderr",
     "output_type": "stream",
     "text": [
      "INFO:tensorflow:Assets written to: .\\vgg16_model.ckpt\\assets\n"
     ]
    },
    {
     "name": "stdout",
     "output_type": "stream",
     "text": [
      "21/21 - 18s - loss: 0.5869 - categorical_accuracy: 0.8283 - val_loss: 1.1343 - val_categorical_accuracy: 0.6352 - lr: 2.0000e-04 - 18s/epoch - 841ms/step\n",
      "Epoch 21/100\n",
      "\n",
      "Epoch 21: saving model to .\\vgg16_model.ckpt\n",
      "INFO:tensorflow:Assets written to: .\\vgg16_model.ckpt\\assets\n"
     ]
    },
    {
     "name": "stderr",
     "output_type": "stream",
     "text": [
      "INFO:tensorflow:Assets written to: .\\vgg16_model.ckpt\\assets\n"
     ]
    },
    {
     "name": "stdout",
     "output_type": "stream",
     "text": [
      "21/21 - 18s - loss: 0.5795 - categorical_accuracy: 0.8283 - val_loss: 1.1309 - val_categorical_accuracy: 0.6541 - lr: 2.0000e-04 - 18s/epoch - 836ms/step\n",
      "Epoch 22/100\n",
      "\n",
      "Epoch 22: saving model to .\\vgg16_model.ckpt\n",
      "INFO:tensorflow:Assets written to: .\\vgg16_model.ckpt\\assets\n"
     ]
    },
    {
     "name": "stderr",
     "output_type": "stream",
     "text": [
      "INFO:tensorflow:Assets written to: .\\vgg16_model.ckpt\\assets\n"
     ]
    },
    {
     "name": "stdout",
     "output_type": "stream",
     "text": [
      "21/21 - 20s - loss: 0.5845 - categorical_accuracy: 0.8313 - val_loss: 1.1529 - val_categorical_accuracy: 0.6541 - lr: 2.0000e-04 - 20s/epoch - 943ms/step\n",
      "Epoch 23/100\n",
      "\n",
      "Epoch 23: saving model to .\\vgg16_model.ckpt\n",
      "INFO:tensorflow:Assets written to: .\\vgg16_model.ckpt\\assets\n"
     ]
    },
    {
     "name": "stderr",
     "output_type": "stream",
     "text": [
      "INFO:tensorflow:Assets written to: .\\vgg16_model.ckpt\\assets\n"
     ]
    },
    {
     "name": "stdout",
     "output_type": "stream",
     "text": [
      "21/21 - 20s - loss: 0.5868 - categorical_accuracy: 0.8117 - val_loss: 1.1144 - val_categorical_accuracy: 0.6667 - lr: 2.0000e-04 - 20s/epoch - 936ms/step\n",
      "Epoch 24/100\n",
      "\n",
      "Epoch 24: saving model to .\\vgg16_model.ckpt\n",
      "INFO:tensorflow:Assets written to: .\\vgg16_model.ckpt\\assets\n"
     ]
    },
    {
     "name": "stderr",
     "output_type": "stream",
     "text": [
      "INFO:tensorflow:Assets written to: .\\vgg16_model.ckpt\\assets\n"
     ]
    },
    {
     "name": "stdout",
     "output_type": "stream",
     "text": [
      "21/21 - 21s - loss: 0.5654 - categorical_accuracy: 0.8208 - val_loss: 1.1294 - val_categorical_accuracy: 0.6541 - lr: 2.0000e-04 - 21s/epoch - 985ms/step\n",
      "Epoch 25/100\n",
      "\n",
      "Epoch 25: saving model to .\\vgg16_model.ckpt\n",
      "INFO:tensorflow:Assets written to: .\\vgg16_model.ckpt\\assets\n"
     ]
    },
    {
     "name": "stderr",
     "output_type": "stream",
     "text": [
      "INFO:tensorflow:Assets written to: .\\vgg16_model.ckpt\\assets\n"
     ]
    },
    {
     "name": "stdout",
     "output_type": "stream",
     "text": [
      "21/21 - 21s - loss: 0.5417 - categorical_accuracy: 0.8404 - val_loss: 1.1422 - val_categorical_accuracy: 0.6541 - lr: 2.0000e-04 - 21s/epoch - 987ms/step\n",
      "Epoch 26/100\n",
      "\n",
      "Epoch 26: saving model to .\\vgg16_model.ckpt\n",
      "INFO:tensorflow:Assets written to: .\\vgg16_model.ckpt\\assets\n"
     ]
    },
    {
     "name": "stderr",
     "output_type": "stream",
     "text": [
      "INFO:tensorflow:Assets written to: .\\vgg16_model.ckpt\\assets\n"
     ]
    },
    {
     "name": "stdout",
     "output_type": "stream",
     "text": [
      "21/21 - 20s - loss: 0.5596 - categorical_accuracy: 0.8298 - val_loss: 1.1236 - val_categorical_accuracy: 0.6541 - lr: 2.0000e-04 - 20s/epoch - 953ms/step\n",
      "Epoch 27/100\n",
      "\n",
      "Epoch 27: saving model to .\\vgg16_model.ckpt\n",
      "INFO:tensorflow:Assets written to: .\\vgg16_model.ckpt\\assets\n"
     ]
    },
    {
     "name": "stderr",
     "output_type": "stream",
     "text": [
      "INFO:tensorflow:Assets written to: .\\vgg16_model.ckpt\\assets\n"
     ]
    },
    {
     "name": "stdout",
     "output_type": "stream",
     "text": [
      "21/21 - 17s - loss: 0.5496 - categorical_accuracy: 0.8343 - val_loss: 1.1362 - val_categorical_accuracy: 0.6667 - lr: 2.0000e-04 - 17s/epoch - 823ms/step\n",
      "Epoch 28/100\n",
      "\n",
      "Epoch 28: ReduceLROnPlateau reducing learning rate to 4.0000001899898055e-05.\n",
      "\n",
      "Epoch 28: saving model to .\\vgg16_model.ckpt\n",
      "INFO:tensorflow:Assets written to: .\\vgg16_model.ckpt\\assets\n"
     ]
    },
    {
     "name": "stderr",
     "output_type": "stream",
     "text": [
      "INFO:tensorflow:Assets written to: .\\vgg16_model.ckpt\\assets\n"
     ]
    },
    {
     "name": "stdout",
     "output_type": "stream",
     "text": [
      "21/21 - 18s - loss: 0.5238 - categorical_accuracy: 0.8389 - val_loss: 1.1516 - val_categorical_accuracy: 0.6541 - lr: 2.0000e-04 - 18s/epoch - 837ms/step\n",
      "Epoch 29/100\n",
      "\n",
      "Epoch 29: saving model to .\\vgg16_model.ckpt\n",
      "INFO:tensorflow:Assets written to: .\\vgg16_model.ckpt\\assets\n"
     ]
    },
    {
     "name": "stderr",
     "output_type": "stream",
     "text": [
      "INFO:tensorflow:Assets written to: .\\vgg16_model.ckpt\\assets\n"
     ]
    },
    {
     "name": "stdout",
     "output_type": "stream",
     "text": [
      "21/21 - 17s - loss: 0.5123 - categorical_accuracy: 0.8539 - val_loss: 1.1465 - val_categorical_accuracy: 0.6541 - lr: 4.0000e-05 - 17s/epoch - 814ms/step\n",
      "Epoch 30/100\n",
      "\n",
      "Epoch 30: saving model to .\\vgg16_model.ckpt\n",
      "INFO:tensorflow:Assets written to: .\\vgg16_model.ckpt\\assets\n"
     ]
    },
    {
     "name": "stderr",
     "output_type": "stream",
     "text": [
      "INFO:tensorflow:Assets written to: .\\vgg16_model.ckpt\\assets\n"
     ]
    },
    {
     "name": "stdout",
     "output_type": "stream",
     "text": [
      "21/21 - 18s - loss: 0.5295 - categorical_accuracy: 0.8358 - val_loss: 1.1442 - val_categorical_accuracy: 0.6541 - lr: 4.0000e-05 - 18s/epoch - 834ms/step\n",
      "Epoch 31/100\n",
      "\n",
      "Epoch 31: saving model to .\\vgg16_model.ckpt\n",
      "INFO:tensorflow:Assets written to: .\\vgg16_model.ckpt\\assets\n"
     ]
    },
    {
     "name": "stderr",
     "output_type": "stream",
     "text": [
      "INFO:tensorflow:Assets written to: .\\vgg16_model.ckpt\\assets\n"
     ]
    },
    {
     "name": "stdout",
     "output_type": "stream",
     "text": [
      "21/21 - 17s - loss: 0.5095 - categorical_accuracy: 0.8479 - val_loss: 1.1399 - val_categorical_accuracy: 0.6541 - lr: 4.0000e-05 - 17s/epoch - 827ms/step\n",
      "Epoch 32/100\n",
      "\n",
      "Epoch 32: saving model to .\\vgg16_model.ckpt\n",
      "INFO:tensorflow:Assets written to: .\\vgg16_model.ckpt\\assets\n"
     ]
    },
    {
     "name": "stderr",
     "output_type": "stream",
     "text": [
      "INFO:tensorflow:Assets written to: .\\vgg16_model.ckpt\\assets\n"
     ]
    },
    {
     "name": "stdout",
     "output_type": "stream",
     "text": [
      "21/21 - 20s - loss: 0.5139 - categorical_accuracy: 0.8449 - val_loss: 1.1385 - val_categorical_accuracy: 0.6541 - lr: 4.0000e-05 - 20s/epoch - 961ms/step\n",
      "Epoch 33/100\n",
      "\n",
      "Epoch 33: ReduceLROnPlateau reducing learning rate to 8.000000525498762e-06.\n",
      "\n",
      "Epoch 33: saving model to .\\vgg16_model.ckpt\n",
      "INFO:tensorflow:Assets written to: .\\vgg16_model.ckpt\\assets\n"
     ]
    },
    {
     "name": "stderr",
     "output_type": "stream",
     "text": [
      "INFO:tensorflow:Assets written to: .\\vgg16_model.ckpt\\assets\n"
     ]
    },
    {
     "name": "stdout",
     "output_type": "stream",
     "text": [
      "21/21 - 19s - loss: 0.5070 - categorical_accuracy: 0.8554 - val_loss: 1.1351 - val_categorical_accuracy: 0.6541 - lr: 4.0000e-05 - 19s/epoch - 892ms/step\n"
     ]
    }
   ],
   "source": [
    "hist = model.fit(trainGenerator,\n",
    "                 validation_data=validationGenerator,\n",
    "                 callbacks=[callback],\n",
    "                 epochs=100,\n",
    "                 verbose=2)"
   ]
  },
  {
   "cell_type": "code",
   "execution_count": 24,
   "metadata": {},
   "outputs": [
    {
     "data": {
      "image/png": "[encoded data removed]",
      "text/plain": [
       "<Figure size 640x480 with 1 Axes>"
      ]
     },
     "metadata": {},
     "output_type": "display_data"
    },
    {
     "data": {
      "image/png": "[encoded data removed]",
      "text/plain": [
       "<Figure size 640x480 with 1 Axes>"
      ]
     },
     "metadata": {},
     "output_type": "display_data"
    }
   ],
   "source": [
    "plt.plot(hist.history['categorical_accuracy'])\n",
    "plt.plot(hist.history['val_categorical_accuracy'])\n",
    "plt.title('Accuracy')\n",
    "plt.legend(['train','val'], loc='upper left')\n",
    "plt.show()\n",
    "plt.plot(hist.history['loss'])\n",
    "plt.plot(hist.history['val_loss'])\n",
    "plt.title('Loss')\n",
    "plt.legend(['train','val'], loc='upper left')\n",
    "plt.show()"
   ]
  },
  {
   "cell_type": "code",
   "execution_count": 25,
   "metadata": {},
   "outputs": [],
   "source": [
    "# input_tensor = layers.Input(shape=(128, 128, 3))\n",
    "# pretrained_model = MobileNet(input_tensor=input_tensor, input_shape=(128, 128, 3), include_top=False, weights='imagenet')\n",
    "# pretrained_output = pretrained_model.output\n",
    "\n",
    "# x = layers.GlobalAveragePooling2D()(pretrained_output)\n",
    "# x = layers.Dense(units=64, activation='relu')(x)\n",
    "# x = layers.Dropout(0.5)(x)\n",
    "# output = layers.Dense(units=16, activation='softmax')(x)\n",
    "\n",
    "# model = models.Model(inputs=input_tensor, outputs=output)"
   ]
  },
  {
   "cell_type": "code",
   "execution_count": 26,
   "metadata": {},
   "outputs": [],
   "source": [
    "# for layer in pretrained_model.layers:\n",
    "#     layer.trainable = False"
   ]
  },
  {
   "cell_type": "code",
   "execution_count": 27,
   "metadata": {},
   "outputs": [],
   "source": [
    "# model.compile(optimizer=optimizers.Adam(),\n",
    "#               loss='categorical_crossentropy',\n",
    "#               metrics=['accuracy'])\n",
    "# hist = model.fit(trainGenerator,\n",
    "#                  validation_data=validationGenerator,\n",
    "#                  callbacks=[callback],\n",
    "#                  epochs=50,\n",
    "#                  verbose=2)"
   ]
  },
  {
   "cell_type": "code",
   "execution_count": 28,
   "metadata": {},
   "outputs": [],
   "source": [
    "# for i, layer in enumerate(pretrained_model.layers):\n",
    "#    print(i, layer.name)"
   ]
  },
  {
   "cell_type": "code",
   "execution_count": 29,
   "metadata": {},
   "outputs": [],
   "source": [
    "model.save('catClassify_MobileNet.h5')"
   ]
  }
 ],
 "metadata": {
  "kernelspec": {
   "display_name": "Python 3",
   "language": "python",
   "name": "python3"
  },
  "language_info": {
   "codemirror_mode": {
    "name": "ipython",
    "version": 3
   },
   "file_extension": ".py",
   "mimetype": "text/x-python",
   "name": "python",
   "nbconvert_exporter": "python",
   "pygments_lexer": "ipython3",
   "version": "3.10.8 (tags/v3.10.8:aaaf517, Oct 11 2022, 16:50:30) [MSC v.1933 64 bit (AMD64)]"
  },
  "orig_nbformat": 4,
  "vscode": {
   "interpreter": {
    "hash": "fb4569285eef3a3450cb62085a5b1e0da4bce0af555edc33dcf29baf3acc1368"
   }
  }
 },
 "nbformat": 4,
 "nbformat_minor": 2
}
